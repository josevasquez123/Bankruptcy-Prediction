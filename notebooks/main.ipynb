{
 "cells": [
  {
   "cell_type": "code",
   "execution_count": 1,
   "metadata": {},
   "outputs": [],
   "source": [
    "import pandas as pd"
   ]
  },
  {
   "attachments": {},
   "cell_type": "markdown",
   "metadata": {},
   "source": [
    "## DATA OBSERVATION"
   ]
  },
  {
   "cell_type": "code",
   "execution_count": 2,
   "metadata": {},
   "outputs": [
    {
     "data": {
      "text/html": [
       "<div>\n",
       "<style scoped>\n",
       "    .dataframe tbody tr th:only-of-type {\n",
       "        vertical-align: middle;\n",
       "    }\n",
       "\n",
       "    .dataframe tbody tr th {\n",
       "        vertical-align: top;\n",
       "    }\n",
       "\n",
       "    .dataframe thead th {\n",
       "        text-align: right;\n",
       "    }\n",
       "</style>\n",
       "<table border=\"1\" class=\"dataframe\">\n",
       "  <thead>\n",
       "    <tr style=\"text-align: right;\">\n",
       "      <th></th>\n",
       "      <th>Bankrupt?</th>\n",
       "      <th>ROA(C) before interest and depreciation before interest</th>\n",
       "      <th>ROA(A) before interest and % after tax</th>\n",
       "      <th>ROA(B) before interest and depreciation after tax</th>\n",
       "      <th>Operating Gross Margin</th>\n",
       "      <th>Realized Sales Gross Margin</th>\n",
       "      <th>Operating Profit Rate</th>\n",
       "      <th>Pre-tax net Interest Rate</th>\n",
       "      <th>After-tax net Interest Rate</th>\n",
       "      <th>Non-industry income and expenditure/revenue</th>\n",
       "      <th>...</th>\n",
       "      <th>Net Income to Total Assets</th>\n",
       "      <th>Total assets to GNP price</th>\n",
       "      <th>No-credit Interval</th>\n",
       "      <th>Gross Profit to Sales</th>\n",
       "      <th>Net Income to Stockholder's Equity</th>\n",
       "      <th>Liability to Equity</th>\n",
       "      <th>Degree of Financial Leverage (DFL)</th>\n",
       "      <th>Interest Coverage Ratio (Interest expense to EBIT)</th>\n",
       "      <th>Net Income Flag</th>\n",
       "      <th>Equity to Liability</th>\n",
       "    </tr>\n",
       "  </thead>\n",
       "  <tbody>\n",
       "    <tr>\n",
       "      <th>0</th>\n",
       "      <td>1</td>\n",
       "      <td>0.370594</td>\n",
       "      <td>0.424389</td>\n",
       "      <td>0.405750</td>\n",
       "      <td>0.601457</td>\n",
       "      <td>0.601457</td>\n",
       "      <td>0.998969</td>\n",
       "      <td>0.796887</td>\n",
       "      <td>0.808809</td>\n",
       "      <td>0.302646</td>\n",
       "      <td>...</td>\n",
       "      <td>0.716845</td>\n",
       "      <td>0.009219</td>\n",
       "      <td>0.622879</td>\n",
       "      <td>0.601453</td>\n",
       "      <td>0.827890</td>\n",
       "      <td>0.290202</td>\n",
       "      <td>0.026601</td>\n",
       "      <td>0.564050</td>\n",
       "      <td>1</td>\n",
       "      <td>0.016469</td>\n",
       "    </tr>\n",
       "    <tr>\n",
       "      <th>1</th>\n",
       "      <td>1</td>\n",
       "      <td>0.464291</td>\n",
       "      <td>0.538214</td>\n",
       "      <td>0.516730</td>\n",
       "      <td>0.610235</td>\n",
       "      <td>0.610235</td>\n",
       "      <td>0.998946</td>\n",
       "      <td>0.797380</td>\n",
       "      <td>0.809301</td>\n",
       "      <td>0.303556</td>\n",
       "      <td>...</td>\n",
       "      <td>0.795297</td>\n",
       "      <td>0.008323</td>\n",
       "      <td>0.623652</td>\n",
       "      <td>0.610237</td>\n",
       "      <td>0.839969</td>\n",
       "      <td>0.283846</td>\n",
       "      <td>0.264577</td>\n",
       "      <td>0.570175</td>\n",
       "      <td>1</td>\n",
       "      <td>0.020794</td>\n",
       "    </tr>\n",
       "    <tr>\n",
       "      <th>2</th>\n",
       "      <td>1</td>\n",
       "      <td>0.426071</td>\n",
       "      <td>0.499019</td>\n",
       "      <td>0.472295</td>\n",
       "      <td>0.601450</td>\n",
       "      <td>0.601364</td>\n",
       "      <td>0.998857</td>\n",
       "      <td>0.796403</td>\n",
       "      <td>0.808388</td>\n",
       "      <td>0.302035</td>\n",
       "      <td>...</td>\n",
       "      <td>0.774670</td>\n",
       "      <td>0.040003</td>\n",
       "      <td>0.623841</td>\n",
       "      <td>0.601449</td>\n",
       "      <td>0.836774</td>\n",
       "      <td>0.290189</td>\n",
       "      <td>0.026555</td>\n",
       "      <td>0.563706</td>\n",
       "      <td>1</td>\n",
       "      <td>0.016474</td>\n",
       "    </tr>\n",
       "    <tr>\n",
       "      <th>3</th>\n",
       "      <td>1</td>\n",
       "      <td>0.399844</td>\n",
       "      <td>0.451265</td>\n",
       "      <td>0.457733</td>\n",
       "      <td>0.583541</td>\n",
       "      <td>0.583541</td>\n",
       "      <td>0.998700</td>\n",
       "      <td>0.796967</td>\n",
       "      <td>0.808966</td>\n",
       "      <td>0.303350</td>\n",
       "      <td>...</td>\n",
       "      <td>0.739555</td>\n",
       "      <td>0.003252</td>\n",
       "      <td>0.622929</td>\n",
       "      <td>0.583538</td>\n",
       "      <td>0.834697</td>\n",
       "      <td>0.281721</td>\n",
       "      <td>0.026697</td>\n",
       "      <td>0.564663</td>\n",
       "      <td>1</td>\n",
       "      <td>0.023982</td>\n",
       "    </tr>\n",
       "    <tr>\n",
       "      <th>4</th>\n",
       "      <td>1</td>\n",
       "      <td>0.465022</td>\n",
       "      <td>0.538432</td>\n",
       "      <td>0.522298</td>\n",
       "      <td>0.598783</td>\n",
       "      <td>0.598783</td>\n",
       "      <td>0.998973</td>\n",
       "      <td>0.797366</td>\n",
       "      <td>0.809304</td>\n",
       "      <td>0.303475</td>\n",
       "      <td>...</td>\n",
       "      <td>0.795016</td>\n",
       "      <td>0.003878</td>\n",
       "      <td>0.623521</td>\n",
       "      <td>0.598782</td>\n",
       "      <td>0.839973</td>\n",
       "      <td>0.278514</td>\n",
       "      <td>0.024752</td>\n",
       "      <td>0.575617</td>\n",
       "      <td>1</td>\n",
       "      <td>0.035490</td>\n",
       "    </tr>\n",
       "  </tbody>\n",
       "</table>\n",
       "<p>5 rows × 96 columns</p>\n",
       "</div>"
      ],
      "text/plain": [
       "   Bankrupt?   ROA(C) before interest and depreciation before interest  \\\n",
       "0          1                                           0.370594          \n",
       "1          1                                           0.464291          \n",
       "2          1                                           0.426071          \n",
       "3          1                                           0.399844          \n",
       "4          1                                           0.465022          \n",
       "\n",
       "    ROA(A) before interest and % after tax  \\\n",
       "0                                 0.424389   \n",
       "1                                 0.538214   \n",
       "2                                 0.499019   \n",
       "3                                 0.451265   \n",
       "4                                 0.538432   \n",
       "\n",
       "    ROA(B) before interest and depreciation after tax  \\\n",
       "0                                           0.405750    \n",
       "1                                           0.516730    \n",
       "2                                           0.472295    \n",
       "3                                           0.457733    \n",
       "4                                           0.522298    \n",
       "\n",
       "    Operating Gross Margin   Realized Sales Gross Margin  \\\n",
       "0                 0.601457                      0.601457   \n",
       "1                 0.610235                      0.610235   \n",
       "2                 0.601450                      0.601364   \n",
       "3                 0.583541                      0.583541   \n",
       "4                 0.598783                      0.598783   \n",
       "\n",
       "    Operating Profit Rate   Pre-tax net Interest Rate  \\\n",
       "0                0.998969                    0.796887   \n",
       "1                0.998946                    0.797380   \n",
       "2                0.998857                    0.796403   \n",
       "3                0.998700                    0.796967   \n",
       "4                0.998973                    0.797366   \n",
       "\n",
       "    After-tax net Interest Rate   Non-industry income and expenditure/revenue  \\\n",
       "0                      0.808809                                      0.302646   \n",
       "1                      0.809301                                      0.303556   \n",
       "2                      0.808388                                      0.302035   \n",
       "3                      0.808966                                      0.303350   \n",
       "4                      0.809304                                      0.303475   \n",
       "\n",
       "   ...   Net Income to Total Assets   Total assets to GNP price  \\\n",
       "0  ...                     0.716845                    0.009219   \n",
       "1  ...                     0.795297                    0.008323   \n",
       "2  ...                     0.774670                    0.040003   \n",
       "3  ...                     0.739555                    0.003252   \n",
       "4  ...                     0.795016                    0.003878   \n",
       "\n",
       "    No-credit Interval   Gross Profit to Sales  \\\n",
       "0             0.622879                0.601453   \n",
       "1             0.623652                0.610237   \n",
       "2             0.623841                0.601449   \n",
       "3             0.622929                0.583538   \n",
       "4             0.623521                0.598782   \n",
       "\n",
       "    Net Income to Stockholder's Equity   Liability to Equity  \\\n",
       "0                             0.827890              0.290202   \n",
       "1                             0.839969              0.283846   \n",
       "2                             0.836774              0.290189   \n",
       "3                             0.834697              0.281721   \n",
       "4                             0.839973              0.278514   \n",
       "\n",
       "    Degree of Financial Leverage (DFL)  \\\n",
       "0                             0.026601   \n",
       "1                             0.264577   \n",
       "2                             0.026555   \n",
       "3                             0.026697   \n",
       "4                             0.024752   \n",
       "\n",
       "    Interest Coverage Ratio (Interest expense to EBIT)   Net Income Flag  \\\n",
       "0                                           0.564050                   1   \n",
       "1                                           0.570175                   1   \n",
       "2                                           0.563706                   1   \n",
       "3                                           0.564663                   1   \n",
       "4                                           0.575617                   1   \n",
       "\n",
       "    Equity to Liability  \n",
       "0              0.016469  \n",
       "1              0.020794  \n",
       "2              0.016474  \n",
       "3              0.023982  \n",
       "4              0.035490  \n",
       "\n",
       "[5 rows x 96 columns]"
      ]
     },
     "execution_count": 2,
     "metadata": {},
     "output_type": "execute_result"
    }
   ],
   "source": [
    "df = pd.read_csv(\"../database/data.csv\")\n",
    "df.head()"
   ]
  },
  {
   "cell_type": "code",
   "execution_count": 5,
   "metadata": {},
   "outputs": [
    {
     "name": "stdout",
     "output_type": "stream",
     "text": [
      "<class 'pandas.core.frame.DataFrame'>\n",
      "RangeIndex: 6819 entries, 0 to 6818\n",
      "Data columns (total 96 columns):\n",
      " #   Column                                                    Non-Null Count  Dtype  \n",
      "---  ------                                                    --------------  -----  \n",
      " 0   Bankrupt?                                                 6819 non-null   int64  \n",
      " 1    ROA(C) before interest and depreciation before interest  6819 non-null   float64\n",
      " 2    ROA(A) before interest and % after tax                   6819 non-null   float64\n",
      " 3    ROA(B) before interest and depreciation after tax        6819 non-null   float64\n",
      " 4    Operating Gross Margin                                   6819 non-null   float64\n",
      " 5    Realized Sales Gross Margin                              6819 non-null   float64\n",
      " 6    Operating Profit Rate                                    6819 non-null   float64\n",
      " 7    Pre-tax net Interest Rate                                6819 non-null   float64\n",
      " 8    After-tax net Interest Rate                              6819 non-null   float64\n",
      " 9    Non-industry income and expenditure/revenue              6819 non-null   float64\n",
      " 10   Continuous interest rate (after tax)                     6819 non-null   float64\n",
      " 11   Operating Expense Rate                                   6819 non-null   float64\n",
      " 12   Research and development expense rate                    6819 non-null   float64\n",
      " 13   Cash flow rate                                           6819 non-null   float64\n",
      " 14   Interest-bearing debt interest rate                      6819 non-null   float64\n",
      " 15   Tax rate (A)                                             6819 non-null   float64\n",
      " 16   Net Value Per Share (B)                                  6819 non-null   float64\n",
      " 17   Net Value Per Share (A)                                  6819 non-null   float64\n",
      " 18   Net Value Per Share (C)                                  6819 non-null   float64\n",
      " 19   Persistent EPS in the Last Four Seasons                  6819 non-null   float64\n",
      " 20   Cash Flow Per Share                                      6819 non-null   float64\n",
      " 21   Revenue Per Share (Yuan ¥)                               6819 non-null   float64\n",
      " 22   Operating Profit Per Share (Yuan ¥)                      6819 non-null   float64\n",
      " 23   Per Share Net profit before tax (Yuan ¥)                 6819 non-null   float64\n",
      " 24   Realized Sales Gross Profit Growth Rate                  6819 non-null   float64\n",
      " 25   Operating Profit Growth Rate                             6819 non-null   float64\n",
      " 26   After-tax Net Profit Growth Rate                         6819 non-null   float64\n",
      " 27   Regular Net Profit Growth Rate                           6819 non-null   float64\n",
      " 28   Continuous Net Profit Growth Rate                        6819 non-null   float64\n",
      " 29   Total Asset Growth Rate                                  6819 non-null   float64\n",
      " 30   Net Value Growth Rate                                    6819 non-null   float64\n",
      " 31   Total Asset Return Growth Rate Ratio                     6819 non-null   float64\n",
      " 32   Cash Reinvestment %                                      6819 non-null   float64\n",
      " 33   Current Ratio                                            6819 non-null   float64\n",
      " 34   Quick Ratio                                              6819 non-null   float64\n",
      " 35   Interest Expense Ratio                                   6819 non-null   float64\n",
      " 36   Total debt/Total net worth                               6819 non-null   float64\n",
      " 37   Debt ratio %                                             6819 non-null   float64\n",
      " 38   Net worth/Assets                                         6819 non-null   float64\n",
      " 39   Long-term fund suitability ratio (A)                     6819 non-null   float64\n",
      " 40   Borrowing dependency                                     6819 non-null   float64\n",
      " 41   Contingent liabilities/Net worth                         6819 non-null   float64\n",
      " 42   Operating profit/Paid-in capital                         6819 non-null   float64\n",
      " 43   Net profit before tax/Paid-in capital                    6819 non-null   float64\n",
      " 44   Inventory and accounts receivable/Net value              6819 non-null   float64\n",
      " 45   Total Asset Turnover                                     6819 non-null   float64\n",
      " 46   Accounts Receivable Turnover                             6819 non-null   float64\n",
      " 47   Average Collection Days                                  6819 non-null   float64\n",
      " 48   Inventory Turnover Rate (times)                          6819 non-null   float64\n",
      " 49   Fixed Assets Turnover Frequency                          6819 non-null   float64\n",
      " 50   Net Worth Turnover Rate (times)                          6819 non-null   float64\n",
      " 51   Revenue per person                                       6819 non-null   float64\n",
      " 52   Operating profit per person                              6819 non-null   float64\n",
      " 53   Allocation rate per person                               6819 non-null   float64\n",
      " 54   Working Capital to Total Assets                          6819 non-null   float64\n",
      " 55   Quick Assets/Total Assets                                6819 non-null   float64\n",
      " 56   Current Assets/Total Assets                              6819 non-null   float64\n",
      " 57   Cash/Total Assets                                        6819 non-null   float64\n",
      " 58   Quick Assets/Current Liability                           6819 non-null   float64\n",
      " 59   Cash/Current Liability                                   6819 non-null   float64\n",
      " 60   Current Liability to Assets                              6819 non-null   float64\n",
      " 61   Operating Funds to Liability                             6819 non-null   float64\n",
      " 62   Inventory/Working Capital                                6819 non-null   float64\n",
      " 63   Inventory/Current Liability                              6819 non-null   float64\n",
      " 64   Current Liabilities/Liability                            6819 non-null   float64\n",
      " 65   Working Capital/Equity                                   6819 non-null   float64\n",
      " 66   Current Liabilities/Equity                               6819 non-null   float64\n",
      " 67   Long-term Liability to Current Assets                    6819 non-null   float64\n",
      " 68   Retained Earnings to Total Assets                        6819 non-null   float64\n",
      " 69   Total income/Total expense                               6819 non-null   float64\n",
      " 70   Total expense/Assets                                     6819 non-null   float64\n",
      " 71   Current Asset Turnover Rate                              6819 non-null   float64\n",
      " 72   Quick Asset Turnover Rate                                6819 non-null   float64\n",
      " 73   Working capitcal Turnover Rate                           6819 non-null   float64\n",
      " 74   Cash Turnover Rate                                       6819 non-null   float64\n",
      " 75   Cash Flow to Sales                                       6819 non-null   float64\n",
      " 76   Fixed Assets to Assets                                   6819 non-null   float64\n",
      " 77   Current Liability to Liability                           6819 non-null   float64\n",
      " 78   Current Liability to Equity                              6819 non-null   float64\n",
      " 79   Equity to Long-term Liability                            6819 non-null   float64\n",
      " 80   Cash Flow to Total Assets                                6819 non-null   float64\n",
      " 81   Cash Flow to Liability                                   6819 non-null   float64\n",
      " 82   CFO to Assets                                            6819 non-null   float64\n",
      " 83   Cash Flow to Equity                                      6819 non-null   float64\n",
      " 84   Current Liability to Current Assets                      6819 non-null   float64\n",
      " 85   Liability-Assets Flag                                    6819 non-null   int64  \n",
      " 86   Net Income to Total Assets                               6819 non-null   float64\n",
      " 87   Total assets to GNP price                                6819 non-null   float64\n",
      " 88   No-credit Interval                                       6819 non-null   float64\n",
      " 89   Gross Profit to Sales                                    6819 non-null   float64\n",
      " 90   Net Income to Stockholder's Equity                       6819 non-null   float64\n",
      " 91   Liability to Equity                                      6819 non-null   float64\n",
      " 92   Degree of Financial Leverage (DFL)                       6819 non-null   float64\n",
      " 93   Interest Coverage Ratio (Interest expense to EBIT)       6819 non-null   float64\n",
      " 94   Net Income Flag                                          6819 non-null   int64  \n",
      " 95   Equity to Liability                                      6819 non-null   float64\n",
      "dtypes: float64(93), int64(3)\n",
      "memory usage: 5.0 MB\n"
     ]
    }
   ],
   "source": [
    "df.info()               #A LOT FEATURES"
   ]
  },
  {
   "cell_type": "code",
   "execution_count": 8,
   "metadata": {},
   "outputs": [
    {
     "data": {
      "text/plain": [
       "0    6599\n",
       "1     220\n",
       "Name: Bankrupt?, dtype: int64"
      ]
     },
     "execution_count": 8,
     "metadata": {},
     "output_type": "execute_result"
    }
   ],
   "source": [
    "df['Bankrupt?'].value_counts()              #DISBALANCED DISTRIBUTION VALUES"
   ]
  },
  {
   "cell_type": "code",
   "execution_count": 10,
   "metadata": {},
   "outputs": [
    {
     "data": {
      "text/plain": [
       "0    96\n",
       "dtype: int64"
      ]
     },
     "execution_count": 10,
     "metadata": {},
     "output_type": "execute_result"
    }
   ],
   "source": [
    "df.isna().sum().value_counts()              #NO NULL VALUES"
   ]
  },
  {
   "cell_type": "code",
   "execution_count": 15,
   "metadata": {},
   "outputs": [
    {
     "data": {
      "text/plain": [
       "0"
      ]
     },
     "execution_count": 15,
     "metadata": {},
     "output_type": "execute_result"
    }
   ],
   "source": [
    "df.duplicated().sum()                       #NO DUPLICATED VALUES"
   ]
  },
  {
   "attachments": {},
   "cell_type": "markdown",
   "metadata": {},
   "source": [
    "### DATA VISUALIZATION"
   ]
  },
  {
   "cell_type": "code",
   "execution_count": 13,
   "metadata": {},
   "outputs": [],
   "source": [
    "import seaborn as sns\n",
    "import matplotlib.pyplot as plt"
   ]
  },
  {
   "cell_type": "code",
   "execution_count": 14,
   "metadata": {},
   "outputs": [
    {
     "data": {
      "image/png": "[encoded data removed]",
      "text/plain": [
       "<Figure size 640x480 with 1 Axes>"
      ]
     },
     "metadata": {},
     "output_type": "display_data"
    }
   ],
   "source": [
    "sns.countplot(x=df['Bankrupt?'])\n",
    "plt.show()"
   ]
  },
  {
   "attachments": {},
   "cell_type": "markdown",
   "metadata": {},
   "source": [
    "- There is imbalance in the output value, we are going to oversampling that\n",
    "- Because there are too many features (95) and make plots for each one takes a lot of time, I will pass"
   ]
  },
  {
   "attachments": {},
   "cell_type": "markdown",
   "metadata": {},
   "source": [
    "### OVERSAMPLING"
   ]
  },
  {
   "cell_type": "code",
   "execution_count": 3,
   "metadata": {},
   "outputs": [],
   "source": [
    "from imblearn.over_sampling import SMOTE"
   ]
  },
  {
   "cell_type": "code",
   "execution_count": 4,
   "metadata": {},
   "outputs": [],
   "source": [
    "sm = SMOTE()\n",
    "\n",
    "x = df.drop(columns=['Bankrupt?'], axis=1)\n",
    "y = df['Bankrupt?']\n",
    "\n",
    "x,y = sm.fit_resample(x,y)"
   ]
  },
  {
   "cell_type": "code",
   "execution_count": 5,
   "metadata": {},
   "outputs": [
    {
     "data": {
      "text/plain": [
       "1    6599\n",
       "0    6599\n",
       "Name: Bankrupt?, dtype: int64"
      ]
     },
     "execution_count": 5,
     "metadata": {},
     "output_type": "execute_result"
    }
   ],
   "source": [
    "y.value_counts()                            #NOW, TARGET VALUE IS BALANCED"
   ]
  },
  {
   "attachments": {},
   "cell_type": "markdown",
   "metadata": {},
   "source": [
    "### FEATURE SELECTION"
   ]
  },
  {
   "cell_type": "code",
   "execution_count": 6,
   "metadata": {},
   "outputs": [
    {
     "name": "stderr",
     "output_type": "stream",
     "text": [
      "d:\\AnalisisDatos\\Portfolio\\Company-Bankruptcy\\env\\lib\\site-packages\\sklearn\\feature_selection\\_univariate_selection.py:112: UserWarning: Features [93] are constant.\n",
      "  warnings.warn(\"Features %s are constant.\" % constant_features_idx, UserWarning)\n",
      "d:\\AnalisisDatos\\Portfolio\\Company-Bankruptcy\\env\\lib\\site-packages\\sklearn\\feature_selection\\_univariate_selection.py:113: RuntimeWarning: invalid value encountered in divide\n",
      "  f = msb / msw\n"
     ]
    }
   ],
   "source": [
    "from sklearn.feature_selection import SelectFromModel, mutual_info_classif, f_classif, SelectKBest\n",
    "\n",
    "feature_selection=SelectKBest(f_classif,k=20).fit(x,y)"
   ]
  },
  {
   "cell_type": "code",
   "execution_count": 7,
   "metadata": {},
   "outputs": [],
   "source": [
    "x_newfeat = x[x.columns[feature_selection.get_support()]]"
   ]
  },
  {
   "cell_type": "code",
   "execution_count": 23,
   "metadata": {},
   "outputs": [
    {
     "data": {
      "text/html": [
       "<div>\n",
       "<style scoped>\n",
       "    .dataframe tbody tr th:only-of-type {\n",
       "        vertical-align: middle;\n",
       "    }\n",
       "\n",
       "    .dataframe tbody tr th {\n",
       "        vertical-align: top;\n",
       "    }\n",
       "\n",
       "    .dataframe thead th {\n",
       "        text-align: right;\n",
       "    }\n",
       "</style>\n",
       "<table border=\"1\" class=\"dataframe\">\n",
       "  <thead>\n",
       "    <tr style=\"text-align: right;\">\n",
       "      <th></th>\n",
       "      <th>ROA(C) before interest and depreciation before interest</th>\n",
       "      <th>ROA(A) before interest and % after tax</th>\n",
       "      <th>ROA(B) before interest and depreciation after tax</th>\n",
       "      <th>Tax rate (A)</th>\n",
       "      <th>Net Value Per Share (B)</th>\n",
       "      <th>Net Value Per Share (A)</th>\n",
       "      <th>Net Value Per Share (C)</th>\n",
       "      <th>Persistent EPS in the Last Four Seasons</th>\n",
       "      <th>Operating Profit Per Share (Yuan ¥)</th>\n",
       "      <th>Per Share Net profit before tax (Yuan ¥)</th>\n",
       "      <th>Debt ratio %</th>\n",
       "      <th>Net worth/Assets</th>\n",
       "      <th>Operating profit/Paid-in capital</th>\n",
       "      <th>Net profit before tax/Paid-in capital</th>\n",
       "      <th>Working Capital to Total Assets</th>\n",
       "      <th>Cash/Total Assets</th>\n",
       "      <th>Current Liability to Assets</th>\n",
       "      <th>Retained Earnings to Total Assets</th>\n",
       "      <th>Current Liability to Current Assets</th>\n",
       "      <th>Net Income to Total Assets</th>\n",
       "    </tr>\n",
       "  </thead>\n",
       "  <tbody>\n",
       "    <tr>\n",
       "      <th>0</th>\n",
       "      <td>0.370594</td>\n",
       "      <td>0.424389</td>\n",
       "      <td>0.405750</td>\n",
       "      <td>0.0</td>\n",
       "      <td>0.147950</td>\n",
       "      <td>0.147950</td>\n",
       "      <td>0.147950</td>\n",
       "      <td>0.169141</td>\n",
       "      <td>0.095921</td>\n",
       "      <td>0.138736</td>\n",
       "      <td>0.207576</td>\n",
       "      <td>0.792424</td>\n",
       "      <td>0.095885</td>\n",
       "      <td>0.137757</td>\n",
       "      <td>0.672775</td>\n",
       "      <td>0.004094</td>\n",
       "      <td>0.147308</td>\n",
       "      <td>0.903225</td>\n",
       "      <td>0.118250</td>\n",
       "      <td>0.716845</td>\n",
       "    </tr>\n",
       "    <tr>\n",
       "      <th>1</th>\n",
       "      <td>0.464291</td>\n",
       "      <td>0.538214</td>\n",
       "      <td>0.516730</td>\n",
       "      <td>0.0</td>\n",
       "      <td>0.182251</td>\n",
       "      <td>0.182251</td>\n",
       "      <td>0.182251</td>\n",
       "      <td>0.208944</td>\n",
       "      <td>0.093722</td>\n",
       "      <td>0.169918</td>\n",
       "      <td>0.171176</td>\n",
       "      <td>0.828824</td>\n",
       "      <td>0.093743</td>\n",
       "      <td>0.168962</td>\n",
       "      <td>0.751111</td>\n",
       "      <td>0.014948</td>\n",
       "      <td>0.056963</td>\n",
       "      <td>0.931065</td>\n",
       "      <td>0.047775</td>\n",
       "      <td>0.795297</td>\n",
       "    </tr>\n",
       "    <tr>\n",
       "      <th>2</th>\n",
       "      <td>0.426071</td>\n",
       "      <td>0.499019</td>\n",
       "      <td>0.472295</td>\n",
       "      <td>0.0</td>\n",
       "      <td>0.177911</td>\n",
       "      <td>0.177911</td>\n",
       "      <td>0.193713</td>\n",
       "      <td>0.180581</td>\n",
       "      <td>0.092338</td>\n",
       "      <td>0.142803</td>\n",
       "      <td>0.207516</td>\n",
       "      <td>0.792484</td>\n",
       "      <td>0.092318</td>\n",
       "      <td>0.148036</td>\n",
       "      <td>0.829502</td>\n",
       "      <td>0.000991</td>\n",
       "      <td>0.098162</td>\n",
       "      <td>0.909903</td>\n",
       "      <td>0.025346</td>\n",
       "      <td>0.774670</td>\n",
       "    </tr>\n",
       "    <tr>\n",
       "      <th>3</th>\n",
       "      <td>0.399844</td>\n",
       "      <td>0.451265</td>\n",
       "      <td>0.457733</td>\n",
       "      <td>0.0</td>\n",
       "      <td>0.154187</td>\n",
       "      <td>0.154187</td>\n",
       "      <td>0.154187</td>\n",
       "      <td>0.193722</td>\n",
       "      <td>0.077762</td>\n",
       "      <td>0.148603</td>\n",
       "      <td>0.151465</td>\n",
       "      <td>0.848535</td>\n",
       "      <td>0.077727</td>\n",
       "      <td>0.147561</td>\n",
       "      <td>0.725754</td>\n",
       "      <td>0.018851</td>\n",
       "      <td>0.098715</td>\n",
       "      <td>0.906902</td>\n",
       "      <td>0.067250</td>\n",
       "      <td>0.739555</td>\n",
       "    </tr>\n",
       "    <tr>\n",
       "      <th>4</th>\n",
       "      <td>0.465022</td>\n",
       "      <td>0.538432</td>\n",
       "      <td>0.522298</td>\n",
       "      <td>0.0</td>\n",
       "      <td>0.167502</td>\n",
       "      <td>0.167502</td>\n",
       "      <td>0.167502</td>\n",
       "      <td>0.212537</td>\n",
       "      <td>0.096898</td>\n",
       "      <td>0.168412</td>\n",
       "      <td>0.106509</td>\n",
       "      <td>0.893491</td>\n",
       "      <td>0.096927</td>\n",
       "      <td>0.167461</td>\n",
       "      <td>0.751822</td>\n",
       "      <td>0.014161</td>\n",
       "      <td>0.110195</td>\n",
       "      <td>0.913850</td>\n",
       "      <td>0.047725</td>\n",
       "      <td>0.795016</td>\n",
       "    </tr>\n",
       "  </tbody>\n",
       "</table>\n",
       "</div>"
      ],
      "text/plain": [
       "    ROA(C) before interest and depreciation before interest  \\\n",
       "0                                           0.370594          \n",
       "1                                           0.464291          \n",
       "2                                           0.426071          \n",
       "3                                           0.399844          \n",
       "4                                           0.465022          \n",
       "\n",
       "    ROA(A) before interest and % after tax  \\\n",
       "0                                 0.424389   \n",
       "1                                 0.538214   \n",
       "2                                 0.499019   \n",
       "3                                 0.451265   \n",
       "4                                 0.538432   \n",
       "\n",
       "    ROA(B) before interest and depreciation after tax   Tax rate (A)  \\\n",
       "0                                           0.405750             0.0   \n",
       "1                                           0.516730             0.0   \n",
       "2                                           0.472295             0.0   \n",
       "3                                           0.457733             0.0   \n",
       "4                                           0.522298             0.0   \n",
       "\n",
       "    Net Value Per Share (B)   Net Value Per Share (A)  \\\n",
       "0                  0.147950                  0.147950   \n",
       "1                  0.182251                  0.182251   \n",
       "2                  0.177911                  0.177911   \n",
       "3                  0.154187                  0.154187   \n",
       "4                  0.167502                  0.167502   \n",
       "\n",
       "    Net Value Per Share (C)   Persistent EPS in the Last Four Seasons  \\\n",
       "0                  0.147950                                  0.169141   \n",
       "1                  0.182251                                  0.208944   \n",
       "2                  0.193713                                  0.180581   \n",
       "3                  0.154187                                  0.193722   \n",
       "4                  0.167502                                  0.212537   \n",
       "\n",
       "    Operating Profit Per Share (Yuan ¥)  \\\n",
       "0                              0.095921   \n",
       "1                              0.093722   \n",
       "2                              0.092338   \n",
       "3                              0.077762   \n",
       "4                              0.096898   \n",
       "\n",
       "    Per Share Net profit before tax (Yuan ¥)   Debt ratio %  \\\n",
       "0                                   0.138736       0.207576   \n",
       "1                                   0.169918       0.171176   \n",
       "2                                   0.142803       0.207516   \n",
       "3                                   0.148603       0.151465   \n",
       "4                                   0.168412       0.106509   \n",
       "\n",
       "    Net worth/Assets   Operating profit/Paid-in capital  \\\n",
       "0           0.792424                           0.095885   \n",
       "1           0.828824                           0.093743   \n",
       "2           0.792484                           0.092318   \n",
       "3           0.848535                           0.077727   \n",
       "4           0.893491                           0.096927   \n",
       "\n",
       "    Net profit before tax/Paid-in capital   Working Capital to Total Assets  \\\n",
       "0                                0.137757                          0.672775   \n",
       "1                                0.168962                          0.751111   \n",
       "2                                0.148036                          0.829502   \n",
       "3                                0.147561                          0.725754   \n",
       "4                                0.167461                          0.751822   \n",
       "\n",
       "    Cash/Total Assets   Current Liability to Assets  \\\n",
       "0            0.004094                      0.147308   \n",
       "1            0.014948                      0.056963   \n",
       "2            0.000991                      0.098162   \n",
       "3            0.018851                      0.098715   \n",
       "4            0.014161                      0.110195   \n",
       "\n",
       "    Retained Earnings to Total Assets   Current Liability to Current Assets  \\\n",
       "0                            0.903225                              0.118250   \n",
       "1                            0.931065                              0.047775   \n",
       "2                            0.909903                              0.025346   \n",
       "3                            0.906902                              0.067250   \n",
       "4                            0.913850                              0.047725   \n",
       "\n",
       "    Net Income to Total Assets  \n",
       "0                     0.716845  \n",
       "1                     0.795297  \n",
       "2                     0.774670  \n",
       "3                     0.739555  \n",
       "4                     0.795016  "
      ]
     },
     "execution_count": 23,
     "metadata": {},
     "output_type": "execute_result"
    }
   ],
   "source": [
    "x_newfeat.head()"
   ]
  },
  {
   "cell_type": "code",
   "execution_count": 24,
   "metadata": {},
   "outputs": [
    {
     "data": {
      "text/html": [
       "<div>\n",
       "<style scoped>\n",
       "    .dataframe tbody tr th:only-of-type {\n",
       "        vertical-align: middle;\n",
       "    }\n",
       "\n",
       "    .dataframe tbody tr th {\n",
       "        vertical-align: top;\n",
       "    }\n",
       "\n",
       "    .dataframe thead th {\n",
       "        text-align: right;\n",
       "    }\n",
       "</style>\n",
       "<table border=\"1\" class=\"dataframe\">\n",
       "  <thead>\n",
       "    <tr style=\"text-align: right;\">\n",
       "      <th></th>\n",
       "      <th>val_1</th>\n",
       "      <th>val_2</th>\n",
       "      <th>val_3</th>\n",
       "      <th>val_4</th>\n",
       "      <th>val_5</th>\n",
       "      <th>val_6</th>\n",
       "      <th>val_7</th>\n",
       "      <th>val_8</th>\n",
       "      <th>val_9</th>\n",
       "      <th>val_10</th>\n",
       "      <th>val_11</th>\n",
       "      <th>val_12</th>\n",
       "      <th>val_13</th>\n",
       "      <th>val_14</th>\n",
       "      <th>val_15</th>\n",
       "      <th>val_16</th>\n",
       "      <th>val_17</th>\n",
       "      <th>val_18</th>\n",
       "      <th>val_19</th>\n",
       "      <th>val_20</th>\n",
       "    </tr>\n",
       "  </thead>\n",
       "  <tbody>\n",
       "    <tr>\n",
       "      <th>0</th>\n",
       "      <td>0.370594</td>\n",
       "      <td>0.424389</td>\n",
       "      <td>0.405750</td>\n",
       "      <td>0.0</td>\n",
       "      <td>0.147950</td>\n",
       "      <td>0.147950</td>\n",
       "      <td>0.147950</td>\n",
       "      <td>0.169141</td>\n",
       "      <td>0.095921</td>\n",
       "      <td>0.138736</td>\n",
       "      <td>0.207576</td>\n",
       "      <td>0.792424</td>\n",
       "      <td>0.095885</td>\n",
       "      <td>0.137757</td>\n",
       "      <td>0.672775</td>\n",
       "      <td>0.004094</td>\n",
       "      <td>0.147308</td>\n",
       "      <td>0.903225</td>\n",
       "      <td>0.118250</td>\n",
       "      <td>0.716845</td>\n",
       "    </tr>\n",
       "    <tr>\n",
       "      <th>1</th>\n",
       "      <td>0.464291</td>\n",
       "      <td>0.538214</td>\n",
       "      <td>0.516730</td>\n",
       "      <td>0.0</td>\n",
       "      <td>0.182251</td>\n",
       "      <td>0.182251</td>\n",
       "      <td>0.182251</td>\n",
       "      <td>0.208944</td>\n",
       "      <td>0.093722</td>\n",
       "      <td>0.169918</td>\n",
       "      <td>0.171176</td>\n",
       "      <td>0.828824</td>\n",
       "      <td>0.093743</td>\n",
       "      <td>0.168962</td>\n",
       "      <td>0.751111</td>\n",
       "      <td>0.014948</td>\n",
       "      <td>0.056963</td>\n",
       "      <td>0.931065</td>\n",
       "      <td>0.047775</td>\n",
       "      <td>0.795297</td>\n",
       "    </tr>\n",
       "    <tr>\n",
       "      <th>2</th>\n",
       "      <td>0.426071</td>\n",
       "      <td>0.499019</td>\n",
       "      <td>0.472295</td>\n",
       "      <td>0.0</td>\n",
       "      <td>0.177911</td>\n",
       "      <td>0.177911</td>\n",
       "      <td>0.193713</td>\n",
       "      <td>0.180581</td>\n",
       "      <td>0.092338</td>\n",
       "      <td>0.142803</td>\n",
       "      <td>0.207516</td>\n",
       "      <td>0.792484</td>\n",
       "      <td>0.092318</td>\n",
       "      <td>0.148036</td>\n",
       "      <td>0.829502</td>\n",
       "      <td>0.000991</td>\n",
       "      <td>0.098162</td>\n",
       "      <td>0.909903</td>\n",
       "      <td>0.025346</td>\n",
       "      <td>0.774670</td>\n",
       "    </tr>\n",
       "    <tr>\n",
       "      <th>3</th>\n",
       "      <td>0.399844</td>\n",
       "      <td>0.451265</td>\n",
       "      <td>0.457733</td>\n",
       "      <td>0.0</td>\n",
       "      <td>0.154187</td>\n",
       "      <td>0.154187</td>\n",
       "      <td>0.154187</td>\n",
       "      <td>0.193722</td>\n",
       "      <td>0.077762</td>\n",
       "      <td>0.148603</td>\n",
       "      <td>0.151465</td>\n",
       "      <td>0.848535</td>\n",
       "      <td>0.077727</td>\n",
       "      <td>0.147561</td>\n",
       "      <td>0.725754</td>\n",
       "      <td>0.018851</td>\n",
       "      <td>0.098715</td>\n",
       "      <td>0.906902</td>\n",
       "      <td>0.067250</td>\n",
       "      <td>0.739555</td>\n",
       "    </tr>\n",
       "    <tr>\n",
       "      <th>4</th>\n",
       "      <td>0.465022</td>\n",
       "      <td>0.538432</td>\n",
       "      <td>0.522298</td>\n",
       "      <td>0.0</td>\n",
       "      <td>0.167502</td>\n",
       "      <td>0.167502</td>\n",
       "      <td>0.167502</td>\n",
       "      <td>0.212537</td>\n",
       "      <td>0.096898</td>\n",
       "      <td>0.168412</td>\n",
       "      <td>0.106509</td>\n",
       "      <td>0.893491</td>\n",
       "      <td>0.096927</td>\n",
       "      <td>0.167461</td>\n",
       "      <td>0.751822</td>\n",
       "      <td>0.014161</td>\n",
       "      <td>0.110195</td>\n",
       "      <td>0.913850</td>\n",
       "      <td>0.047725</td>\n",
       "      <td>0.795016</td>\n",
       "    </tr>\n",
       "  </tbody>\n",
       "</table>\n",
       "</div>"
      ],
      "text/plain": [
       "      val_1     val_2     val_3  val_4     val_5     val_6     val_7  \\\n",
       "0  0.370594  0.424389  0.405750    0.0  0.147950  0.147950  0.147950   \n",
       "1  0.464291  0.538214  0.516730    0.0  0.182251  0.182251  0.182251   \n",
       "2  0.426071  0.499019  0.472295    0.0  0.177911  0.177911  0.193713   \n",
       "3  0.399844  0.451265  0.457733    0.0  0.154187  0.154187  0.154187   \n",
       "4  0.465022  0.538432  0.522298    0.0  0.167502  0.167502  0.167502   \n",
       "\n",
       "      val_8     val_9    val_10    val_11    val_12    val_13    val_14  \\\n",
       "0  0.169141  0.095921  0.138736  0.207576  0.792424  0.095885  0.137757   \n",
       "1  0.208944  0.093722  0.169918  0.171176  0.828824  0.093743  0.168962   \n",
       "2  0.180581  0.092338  0.142803  0.207516  0.792484  0.092318  0.148036   \n",
       "3  0.193722  0.077762  0.148603  0.151465  0.848535  0.077727  0.147561   \n",
       "4  0.212537  0.096898  0.168412  0.106509  0.893491  0.096927  0.167461   \n",
       "\n",
       "     val_15    val_16    val_17    val_18    val_19    val_20  \n",
       "0  0.672775  0.004094  0.147308  0.903225  0.118250  0.716845  \n",
       "1  0.751111  0.014948  0.056963  0.931065  0.047775  0.795297  \n",
       "2  0.829502  0.000991  0.098162  0.909903  0.025346  0.774670  \n",
       "3  0.725754  0.018851  0.098715  0.906902  0.067250  0.739555  \n",
       "4  0.751822  0.014161  0.110195  0.913850  0.047725  0.795016  "
      ]
     },
     "execution_count": 24,
     "metadata": {},
     "output_type": "execute_result"
    }
   ],
   "source": [
    "#CHANGE COLUMN NAMES FOR EASIER DEPLOYMENT\n",
    "column_names = [\"val_1\", \"val_2\", \"val_3\", \"val_4\", \"val_5\",\"val_6\", \"val_7\", \"val_8\", \"val_9\", \"val_10\",\n",
    "                \"val_11\", \"val_12\", \"val_13\", \"val_14\", \"val_15\",\"val_16\", \"val_17\", \"val_18\", \"val_19\", \"val_20\"]\n",
    "\n",
    "x_newfeat.columns = column_names\n",
    "x_newfeat.head()"
   ]
  },
  {
   "attachments": {},
   "cell_type": "markdown",
   "metadata": {},
   "source": [
    "I chose 20 features of 95 and store in x_newfeat, because those features have more correlation with target value than others."
   ]
  },
  {
   "attachments": {},
   "cell_type": "markdown",
   "metadata": {},
   "source": [
    "### SPLIT DATA"
   ]
  },
  {
   "cell_type": "code",
   "execution_count": 25,
   "metadata": {},
   "outputs": [],
   "source": [
    "from sklearn.model_selection import train_test_split"
   ]
  },
  {
   "cell_type": "code",
   "execution_count": 26,
   "metadata": {},
   "outputs": [],
   "source": [
    "x_train, x_test, y_train, y_test = train_test_split(x_newfeat, y, test_size=0.2)"
   ]
  },
  {
   "attachments": {},
   "cell_type": "markdown",
   "metadata": {},
   "source": [
    "## MODELS"
   ]
  },
  {
   "cell_type": "code",
   "execution_count": 27,
   "metadata": {},
   "outputs": [],
   "source": [
    "from sklearn.linear_model import LogisticRegression\n",
    "from sklearn.metrics import accuracy_score, confusion_matrix, classification_report"
   ]
  },
  {
   "attachments": {},
   "cell_type": "markdown",
   "metadata": {},
   "source": [
    "### LOGISTIC REGRESSION"
   ]
  },
  {
   "cell_type": "code",
   "execution_count": 84,
   "metadata": {},
   "outputs": [
    {
     "name": "stdout",
     "output_type": "stream",
     "text": [
      "0.8799242424242424\n"
     ]
    }
   ],
   "source": [
    "lr_model = LogisticRegression()\n",
    "lr_model.fit(x_train,y_train)\n",
    "lr_predict = lr_model.predict(x_test)\n",
    "\n",
    "print(accuracy_score(y_test, lr_predict))"
   ]
  },
  {
   "cell_type": "code",
   "execution_count": 85,
   "metadata": {},
   "outputs": [
    {
     "name": "stdout",
     "output_type": "stream",
     "text": [
      "              precision    recall  f1-score   support\n",
      "\n",
      "           0       0.89      0.87      0.88      1312\n",
      "           1       0.87      0.89      0.88      1328\n",
      "\n",
      "    accuracy                           0.88      2640\n",
      "   macro avg       0.88      0.88      0.88      2640\n",
      "weighted avg       0.88      0.88      0.88      2640\n",
      "\n"
     ]
    }
   ],
   "source": [
    "print(classification_report(y_test, lr_predict))"
   ]
  },
  {
   "cell_type": "code",
   "execution_count": 86,
   "metadata": {},
   "outputs": [
    {
     "data": {
      "text/plain": [
       "array([[1138,  174],\n",
       "       [ 143, 1185]], dtype=int64)"
      ]
     },
     "execution_count": 86,
     "metadata": {},
     "output_type": "execute_result"
    }
   ],
   "source": [
    "confusion_matrix(y_test, lr_predict)"
   ]
  },
  {
   "attachments": {},
   "cell_type": "markdown",
   "metadata": {},
   "source": [
    "### RANDOM FOREST"
   ]
  },
  {
   "cell_type": "code",
   "execution_count": 87,
   "metadata": {},
   "outputs": [],
   "source": [
    "from sklearn.ensemble import RandomForestClassifier"
   ]
  },
  {
   "cell_type": "code",
   "execution_count": 88,
   "metadata": {},
   "outputs": [
    {
     "name": "stdout",
     "output_type": "stream",
     "text": [
      "0.9598484848484848\n"
     ]
    }
   ],
   "source": [
    "rf_model = RandomForestClassifier()\n",
    "rf_model.fit(x_train, y_train)\n",
    "rf_predict = rf_model.predict(x_test)\n",
    "\n",
    "print(accuracy_score(y_test, rf_predict))"
   ]
  },
  {
   "cell_type": "code",
   "execution_count": 89,
   "metadata": {},
   "outputs": [
    {
     "name": "stdout",
     "output_type": "stream",
     "text": [
      "              precision    recall  f1-score   support\n",
      "\n",
      "           0       0.98      0.94      0.96      1312\n",
      "           1       0.94      0.98      0.96      1328\n",
      "\n",
      "    accuracy                           0.96      2640\n",
      "   macro avg       0.96      0.96      0.96      2640\n",
      "weighted avg       0.96      0.96      0.96      2640\n",
      "\n"
     ]
    }
   ],
   "source": [
    "print(classification_report(y_test, rf_predict))"
   ]
  },
  {
   "cell_type": "code",
   "execution_count": 90,
   "metadata": {},
   "outputs": [
    {
     "data": {
      "text/plain": [
       "array([[1227,   85],\n",
       "       [  21, 1307]], dtype=int64)"
      ]
     },
     "execution_count": 90,
     "metadata": {},
     "output_type": "execute_result"
    }
   ],
   "source": [
    "confusion_matrix(y_test, rf_predict)"
   ]
  },
  {
   "attachments": {},
   "cell_type": "markdown",
   "metadata": {},
   "source": [
    "### XGBOOST"
   ]
  },
  {
   "cell_type": "code",
   "execution_count": 28,
   "metadata": {},
   "outputs": [],
   "source": [
    "from xgboost import XGBClassifier"
   ]
  },
  {
   "cell_type": "code",
   "execution_count": 29,
   "metadata": {},
   "outputs": [
    {
     "name": "stdout",
     "output_type": "stream",
     "text": [
      "0.9621212121212122\n"
     ]
    }
   ],
   "source": [
    "xg_model = XGBClassifier(n_estimators=50, max_depth=6, learning_rate=1, objective='binary:logistic')\n",
    "xg_model.fit(x_train, y_train)\n",
    "xg_predict = xg_model.predict(x_test)\n",
    "\n",
    "print(accuracy_score(y_test, xg_predict))"
   ]
  },
  {
   "cell_type": "code",
   "execution_count": 30,
   "metadata": {},
   "outputs": [
    {
     "name": "stdout",
     "output_type": "stream",
     "text": [
      "              precision    recall  f1-score   support\n",
      "\n",
      "           0       0.98      0.95      0.96      1320\n",
      "           1       0.95      0.98      0.96      1320\n",
      "\n",
      "    accuracy                           0.96      2640\n",
      "   macro avg       0.96      0.96      0.96      2640\n",
      "weighted avg       0.96      0.96      0.96      2640\n",
      "\n"
     ]
    }
   ],
   "source": [
    "print(classification_report(y_test, xg_predict))"
   ]
  },
  {
   "cell_type": "code",
   "execution_count": 31,
   "metadata": {},
   "outputs": [
    {
     "data": {
      "text/plain": [
       "array([[1249,   71],\n",
       "       [  29, 1291]], dtype=int64)"
      ]
     },
     "execution_count": 31,
     "metadata": {},
     "output_type": "execute_result"
    }
   ],
   "source": [
    "confusion_matrix(y_test, xg_predict)"
   ]
  },
  {
   "attachments": {},
   "cell_type": "markdown",
   "metadata": {},
   "source": [
    "- XGBOOST present better results than others, thus I will use this ML model to wrap into a API service\n",
    "- Hypertunning will be an optional step, but I assume XGBOOST metrics is good enough to use it"
   ]
  },
  {
   "attachments": {},
   "cell_type": "markdown",
   "metadata": {},
   "source": [
    "### EXPORT MODEL"
   ]
  },
  {
   "cell_type": "code",
   "execution_count": 32,
   "metadata": {},
   "outputs": [],
   "source": [
    "import pickle"
   ]
  },
  {
   "cell_type": "code",
   "execution_count": 33,
   "metadata": {},
   "outputs": [],
   "source": [
    "pickle.dump(xg_model,open('../ml_model/model.pkl','wb'))"
   ]
  },
  {
   "cell_type": "code",
   "execution_count": 22,
   "metadata": {},
   "outputs": [
    {
     "data": {
      "text/html": [
       "<div>\n",
       "<style scoped>\n",
       "    .dataframe tbody tr th:only-of-type {\n",
       "        vertical-align: middle;\n",
       "    }\n",
       "\n",
       "    .dataframe tbody tr th {\n",
       "        vertical-align: top;\n",
       "    }\n",
       "\n",
       "    .dataframe thead th {\n",
       "        text-align: right;\n",
       "    }\n",
       "</style>\n",
       "<table border=\"1\" class=\"dataframe\">\n",
       "  <thead>\n",
       "    <tr style=\"text-align: right;\">\n",
       "      <th></th>\n",
       "      <th>ROA(C) before interest and depreciation before interest</th>\n",
       "      <th>ROA(A) before interest and % after tax</th>\n",
       "      <th>ROA(B) before interest and depreciation after tax</th>\n",
       "      <th>Tax rate (A)</th>\n",
       "      <th>Net Value Per Share (B)</th>\n",
       "      <th>Net Value Per Share (A)</th>\n",
       "      <th>Net Value Per Share (C)</th>\n",
       "      <th>Persistent EPS in the Last Four Seasons</th>\n",
       "      <th>Operating Profit Per Share (Yuan ¥)</th>\n",
       "      <th>Per Share Net profit before tax (Yuan ¥)</th>\n",
       "      <th>Debt ratio %</th>\n",
       "      <th>Net worth/Assets</th>\n",
       "      <th>Operating profit/Paid-in capital</th>\n",
       "      <th>Net profit before tax/Paid-in capital</th>\n",
       "      <th>Working Capital to Total Assets</th>\n",
       "      <th>Cash/Total Assets</th>\n",
       "      <th>Current Liability to Assets</th>\n",
       "      <th>Retained Earnings to Total Assets</th>\n",
       "      <th>Current Liability to Current Assets</th>\n",
       "      <th>Net Income to Total Assets</th>\n",
       "    </tr>\n",
       "  </thead>\n",
       "  <tbody>\n",
       "    <tr>\n",
       "      <th>0</th>\n",
       "      <td>0.370594</td>\n",
       "      <td>0.424389</td>\n",
       "      <td>0.405750</td>\n",
       "      <td>0.0</td>\n",
       "      <td>0.147950</td>\n",
       "      <td>0.147950</td>\n",
       "      <td>0.147950</td>\n",
       "      <td>0.169141</td>\n",
       "      <td>0.095921</td>\n",
       "      <td>0.138736</td>\n",
       "      <td>0.207576</td>\n",
       "      <td>0.792424</td>\n",
       "      <td>0.095885</td>\n",
       "      <td>0.137757</td>\n",
       "      <td>0.672775</td>\n",
       "      <td>0.004094</td>\n",
       "      <td>0.147308</td>\n",
       "      <td>0.903225</td>\n",
       "      <td>0.118250</td>\n",
       "      <td>0.716845</td>\n",
       "    </tr>\n",
       "    <tr>\n",
       "      <th>1</th>\n",
       "      <td>0.464291</td>\n",
       "      <td>0.538214</td>\n",
       "      <td>0.516730</td>\n",
       "      <td>0.0</td>\n",
       "      <td>0.182251</td>\n",
       "      <td>0.182251</td>\n",
       "      <td>0.182251</td>\n",
       "      <td>0.208944</td>\n",
       "      <td>0.093722</td>\n",
       "      <td>0.169918</td>\n",
       "      <td>0.171176</td>\n",
       "      <td>0.828824</td>\n",
       "      <td>0.093743</td>\n",
       "      <td>0.168962</td>\n",
       "      <td>0.751111</td>\n",
       "      <td>0.014948</td>\n",
       "      <td>0.056963</td>\n",
       "      <td>0.931065</td>\n",
       "      <td>0.047775</td>\n",
       "      <td>0.795297</td>\n",
       "    </tr>\n",
       "    <tr>\n",
       "      <th>2</th>\n",
       "      <td>0.426071</td>\n",
       "      <td>0.499019</td>\n",
       "      <td>0.472295</td>\n",
       "      <td>0.0</td>\n",
       "      <td>0.177911</td>\n",
       "      <td>0.177911</td>\n",
       "      <td>0.193713</td>\n",
       "      <td>0.180581</td>\n",
       "      <td>0.092338</td>\n",
       "      <td>0.142803</td>\n",
       "      <td>0.207516</td>\n",
       "      <td>0.792484</td>\n",
       "      <td>0.092318</td>\n",
       "      <td>0.148036</td>\n",
       "      <td>0.829502</td>\n",
       "      <td>0.000991</td>\n",
       "      <td>0.098162</td>\n",
       "      <td>0.909903</td>\n",
       "      <td>0.025346</td>\n",
       "      <td>0.774670</td>\n",
       "    </tr>\n",
       "    <tr>\n",
       "      <th>3</th>\n",
       "      <td>0.399844</td>\n",
       "      <td>0.451265</td>\n",
       "      <td>0.457733</td>\n",
       "      <td>0.0</td>\n",
       "      <td>0.154187</td>\n",
       "      <td>0.154187</td>\n",
       "      <td>0.154187</td>\n",
       "      <td>0.193722</td>\n",
       "      <td>0.077762</td>\n",
       "      <td>0.148603</td>\n",
       "      <td>0.151465</td>\n",
       "      <td>0.848535</td>\n",
       "      <td>0.077727</td>\n",
       "      <td>0.147561</td>\n",
       "      <td>0.725754</td>\n",
       "      <td>0.018851</td>\n",
       "      <td>0.098715</td>\n",
       "      <td>0.906902</td>\n",
       "      <td>0.067250</td>\n",
       "      <td>0.739555</td>\n",
       "    </tr>\n",
       "    <tr>\n",
       "      <th>4</th>\n",
       "      <td>0.465022</td>\n",
       "      <td>0.538432</td>\n",
       "      <td>0.522298</td>\n",
       "      <td>0.0</td>\n",
       "      <td>0.167502</td>\n",
       "      <td>0.167502</td>\n",
       "      <td>0.167502</td>\n",
       "      <td>0.212537</td>\n",
       "      <td>0.096898</td>\n",
       "      <td>0.168412</td>\n",
       "      <td>0.106509</td>\n",
       "      <td>0.893491</td>\n",
       "      <td>0.096927</td>\n",
       "      <td>0.167461</td>\n",
       "      <td>0.751822</td>\n",
       "      <td>0.014161</td>\n",
       "      <td>0.110195</td>\n",
       "      <td>0.913850</td>\n",
       "      <td>0.047725</td>\n",
       "      <td>0.795016</td>\n",
       "    </tr>\n",
       "  </tbody>\n",
       "</table>\n",
       "</div>"
      ],
      "text/plain": [
       "    ROA(C) before interest and depreciation before interest  \\\n",
       "0                                           0.370594          \n",
       "1                                           0.464291          \n",
       "2                                           0.426071          \n",
       "3                                           0.399844          \n",
       "4                                           0.465022          \n",
       "\n",
       "    ROA(A) before interest and % after tax  \\\n",
       "0                                 0.424389   \n",
       "1                                 0.538214   \n",
       "2                                 0.499019   \n",
       "3                                 0.451265   \n",
       "4                                 0.538432   \n",
       "\n",
       "    ROA(B) before interest and depreciation after tax   Tax rate (A)  \\\n",
       "0                                           0.405750             0.0   \n",
       "1                                           0.516730             0.0   \n",
       "2                                           0.472295             0.0   \n",
       "3                                           0.457733             0.0   \n",
       "4                                           0.522298             0.0   \n",
       "\n",
       "    Net Value Per Share (B)   Net Value Per Share (A)  \\\n",
       "0                  0.147950                  0.147950   \n",
       "1                  0.182251                  0.182251   \n",
       "2                  0.177911                  0.177911   \n",
       "3                  0.154187                  0.154187   \n",
       "4                  0.167502                  0.167502   \n",
       "\n",
       "    Net Value Per Share (C)   Persistent EPS in the Last Four Seasons  \\\n",
       "0                  0.147950                                  0.169141   \n",
       "1                  0.182251                                  0.208944   \n",
       "2                  0.193713                                  0.180581   \n",
       "3                  0.154187                                  0.193722   \n",
       "4                  0.167502                                  0.212537   \n",
       "\n",
       "    Operating Profit Per Share (Yuan ¥)  \\\n",
       "0                              0.095921   \n",
       "1                              0.093722   \n",
       "2                              0.092338   \n",
       "3                              0.077762   \n",
       "4                              0.096898   \n",
       "\n",
       "    Per Share Net profit before tax (Yuan ¥)   Debt ratio %  \\\n",
       "0                                   0.138736       0.207576   \n",
       "1                                   0.169918       0.171176   \n",
       "2                                   0.142803       0.207516   \n",
       "3                                   0.148603       0.151465   \n",
       "4                                   0.168412       0.106509   \n",
       "\n",
       "    Net worth/Assets   Operating profit/Paid-in capital  \\\n",
       "0           0.792424                           0.095885   \n",
       "1           0.828824                           0.093743   \n",
       "2           0.792484                           0.092318   \n",
       "3           0.848535                           0.077727   \n",
       "4           0.893491                           0.096927   \n",
       "\n",
       "    Net profit before tax/Paid-in capital   Working Capital to Total Assets  \\\n",
       "0                                0.137757                          0.672775   \n",
       "1                                0.168962                          0.751111   \n",
       "2                                0.148036                          0.829502   \n",
       "3                                0.147561                          0.725754   \n",
       "4                                0.167461                          0.751822   \n",
       "\n",
       "    Cash/Total Assets   Current Liability to Assets  \\\n",
       "0            0.004094                      0.147308   \n",
       "1            0.014948                      0.056963   \n",
       "2            0.000991                      0.098162   \n",
       "3            0.018851                      0.098715   \n",
       "4            0.014161                      0.110195   \n",
       "\n",
       "    Retained Earnings to Total Assets   Current Liability to Current Assets  \\\n",
       "0                            0.903225                              0.118250   \n",
       "1                            0.931065                              0.047775   \n",
       "2                            0.909903                              0.025346   \n",
       "3                            0.906902                              0.067250   \n",
       "4                            0.913850                              0.047725   \n",
       "\n",
       "    Net Income to Total Assets  \n",
       "0                     0.716845  \n",
       "1                     0.795297  \n",
       "2                     0.774670  \n",
       "3                     0.739555  \n",
       "4                     0.795016  "
      ]
     },
     "execution_count": 22,
     "metadata": {},
     "output_type": "execute_result"
    }
   ],
   "source": [
    "x_newfeat.head()"
   ]
  },
  {
   "cell_type": "code",
   "execution_count": null,
   "metadata": {},
   "outputs": [],
   "source": []
  }
 ],
 "metadata": {
  "kernelspec": {
   "display_name": "env",
   "language": "python",
   "name": "python3"
  },
  "language_info": {
   "codemirror_mode": {
    "name": "ipython",
    "version": 3
   },
   "file_extension": ".py",
   "mimetype": "text/x-python",
   "name": "python",
   "nbconvert_exporter": "python",
   "pygments_lexer": "ipython3",
   "version": "3.9.11 (tags/v3.9.11:2de452f, Mar 16 2022, 14:33:45) [MSC v.1929 64 bit (AMD64)]"
  },
  "orig_nbformat": 4,
  "vscode": {
   "interpreter": {
    "hash": "25c5ad5fe4bfb7548fa32945d97387fc4c81cb60f9b3de14c36326edf547bc11"
   }
  }
 },
 "nbformat": 4,
 "nbformat_minor": 2
}
